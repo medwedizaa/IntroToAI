{
 "cells": [
  {
   "cell_type": "markdown",
   "id": "2fd23055-c0e6-461c-bdd8-2611fa11e72c",
   "metadata": {},
   "source": [
    "The goal of the depth first search is the same like in the case of the BFS which is traversing graphs and trees"
   ]
  },
  {
   "cell_type": "code",
   "execution_count": 3,
   "id": "4defb71d-24f5-4d58-8e2b-74c37abffeae",
   "metadata": {},
   "outputs": [],
   "source": [
    "#define the decision tree as a dictionary\n",
    "tree = {\n",
    "    'A': ['B', 'C'],\n",
    "    'B': ['D', 'E'],\n",
    "    'C': ['F', 'G'],\n",
    "    'D': ['H', 'I'],\n",
    "    'E': ['J', 'K'],\n",
    "    'F': ['L', 'M'],\n",
    "    'G': ['N', 'O'],\n",
    "    'H': [],\n",
    "    'I': [],\n",
    "    'J': [],\n",
    "    'K': [],\n",
    "    'L': [],\n",
    "    'M': [],\n",
    "    'N': [],\n",
    "    'O': []\n",
    "}\n",
    "\n"
   ]
  },
  {
   "cell_type": "code",
   "execution_count": 4,
   "id": "0c70b51c-6756-4c41-8021-e7c20e5fe707",
   "metadata": {},
   "outputs": [],
   "source": [
    "#recursive DFS\n",
    "\n",
    "def dfs_recursive(tree, node, visited = None):\n",
    "    if visited is None: #meemimg that we have just started a search process\n",
    "        visited = set()\n",
    "    visited.add(node)\n",
    "    print(node) #we print this for illustrations\n",
    "    for child in tree[node]: # recursively visiting each children\n",
    "        if child not in visited:\n",
    "            dfs_recursive(tree, child, visited)"
   ]
  },
  {
   "cell_type": "code",
   "execution_count": 6,
   "id": "8791aa7c-4c30-4340-915a-be435fab7a72",
   "metadata": {},
   "outputs": [
    {
     "name": "stdout",
     "output_type": "stream",
     "text": [
      "A\n",
      "B\n",
      "D\n",
      "H\n",
      "I\n",
      "E\n",
      "J\n",
      "K\n",
      "C\n",
      "F\n",
      "L\n",
      "M\n",
      "G\n",
      "N\n",
      "O\n"
     ]
    }
   ],
   "source": [
    "#call our dfs\n",
    "dfs_recursive(tree, 'A')"
   ]
  },
  {
   "cell_type": "code",
   "execution_count": 7,
   "id": "464ee012-d641-4e82-b8ce-617ee3b5ec55",
   "metadata": {},
   "outputs": [],
   "source": [
    "#iterative DFS\n",
    "def dfs_iteractive(tree, start):\n",
    "    visited = set() # track visited nodes\n",
    "    stack = [start] # stack for DFS\n",
    "\n",
    "    while stack: #continue until stack is empty\n",
    "        node = stack.pop()\n",
    "        if node not in visited:\n",
    "            visited.add(node)\n",
    "            print (node)\n",
    "            stack.extend(reversed(tree[node])) # adding child nodes to stack"
   ]
  },
  {
   "cell_type": "code",
   "execution_count": 8,
   "id": "e7e63fb2-5bc9-42d6-894b-49e607c26598",
   "metadata": {},
   "outputs": [
    {
     "name": "stdout",
     "output_type": "stream",
     "text": [
      "A\n",
      "B\n",
      "D\n",
      "H\n",
      "I\n",
      "E\n",
      "J\n",
      "K\n",
      "C\n",
      "F\n",
      "L\n",
      "M\n",
      "G\n",
      "N\n",
      "O\n"
     ]
    }
   ],
   "source": [
    "dfs_iteractive(tree, 'A')"
   ]
  },
  {
   "cell_type": "code",
   "execution_count": null,
   "id": "d31b47f2-6857-4426-88be-89fa93337939",
   "metadata": {},
   "outputs": [],
   "source": []
  }
 ],
 "metadata": {
  "kernelspec": {
   "display_name": "Python [conda env:base] *",
   "language": "python",
   "name": "conda-base-py"
  },
  "language_info": {
   "codemirror_mode": {
    "name": "ipython",
    "version": 3
   },
   "file_extension": ".py",
   "mimetype": "text/x-python",
   "name": "python",
   "nbconvert_exporter": "python",
   "pygments_lexer": "ipython3",
   "version": "3.12.7"
  }
 },
 "nbformat": 4,
 "nbformat_minor": 5
}
