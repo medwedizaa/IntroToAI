{
 "cells": [
  {
   "cell_type": "code",
   "execution_count": 22,
   "id": "dee9d1ba-4aad-46d2-9568-8d45e1bf202c",
   "metadata": {},
   "outputs": [],
   "source": [
    "superSecretPassword = \"thisisalenovomontor\"\n",
    "secretLen = len(superSecretPassword)\n",
    "\n",
    "PM = 10;\n",
    "PC = 25;"
   ]
  },
  {
   "cell_type": "code",
   "execution_count": 23,
   "id": "f9abb34c-94ce-46ff-8818-850a89e23fe3",
   "metadata": {},
   "outputs": [],
   "source": [
    "def pwdCheckFunction(pwd, superDecretPassword):\n",
    "    return superSecretPassword == pwd"
   ]
  },
  {
   "cell_type": "code",
   "execution_count": 24,
   "id": "7b13d440-c1c9-46ff-9122-924865eef2b9",
   "metadata": {},
   "outputs": [
    {
     "data": {
      "text/plain": [
       "False"
      ]
     },
     "execution_count": 24,
     "metadata": {},
     "output_type": "execute_result"
    }
   ],
   "source": [
    "pwdCheckFunction('helloWolrd', superSecretPassword)"
   ]
  },
  {
   "cell_type": "code",
   "execution_count": 25,
   "id": "9b5fce90-5983-47c7-b56c-3f029f63f9c6",
   "metadata": {},
   "outputs": [
    {
     "data": {
      "text/plain": [
       "True"
      ]
     },
     "execution_count": 25,
     "metadata": {},
     "output_type": "execute_result"
    }
   ],
   "source": [
    "pwdCheckFunction('thisisalenovomontor', superSecretPassword)"
   ]
  },
  {
   "cell_type": "code",
   "execution_count": 26,
   "id": "bed4afbe-1d1c-4a6d-a812-f9f075839d21",
   "metadata": {},
   "outputs": [],
   "source": [
    "def objectivePwd(pwd, superSecretPassword):\n",
    "    pwd = pwd.lower()\n",
    "    superSecretPassword = superSecretPassword.lower()\n",
    "    score = 0\n",
    "    for i,j in enumerate(pwd):\n",
    "        if pwd[i] == superSecretPassword[i]:\n",
    "            score = score + 1\n",
    "    return score/len(superSecretPassword)"
   ]
  },
  {
   "cell_type": "code",
   "execution_count": 27,
   "id": "be389560-90af-48a2-9106-daf7b67ee3d2",
   "metadata": {},
   "outputs": [
    {
     "data": {
      "text/plain": [
       "0.3684210526315789"
      ]
     },
     "execution_count": 27,
     "metadata": {},
     "output_type": "execute_result"
    }
   ],
   "source": [
    "objectivePwd('thisisa', 'thisisalenovomontor')"
   ]
  },
  {
   "cell_type": "code",
   "execution_count": 28,
   "id": "13f1a381-86fd-40c8-afae-d2d2f3d14a3c",
   "metadata": {},
   "outputs": [],
   "source": [
    "import random\n",
    "import string\n",
    "\n",
    "class Agent:\n",
    "    pwd = \"\"\n",
    "    score = 0\n",
    "    def __init__(self, pwdLen):\n",
    "        self.pwd = ''.join(random.choice(string.ascii_lowercase) for _ in range(pwdLen))\n",
    "        self.score = 0;"
   ]
  },
  {
   "cell_type": "code",
   "execution_count": 29,
   "id": "68af73d1-6882-4fee-a80f-bdc9eef9ebff",
   "metadata": {},
   "outputs": [
    {
     "name": "stdout",
     "output_type": "stream",
     "text": [
      "qfcdofiwezmamcihgff\n"
     ]
    }
   ],
   "source": [
    "a = Agent(secretLen)\n",
    "print(a.pwd)"
   ]
  },
  {
   "cell_type": "code",
   "execution_count": 30,
   "id": "4456c330-63fa-4e61-86db-2210c3a6b598",
   "metadata": {},
   "outputs": [],
   "source": [
    "def geneticCrossover(AgentA, AgentB):\n",
    "    ChildA = Agent(0)\n",
    "    ChildB = Agent(0)  \n",
    "    gene1 = \"\"\n",
    "    gene2 = \"\"\n",
    "    for i in range(secretLen):\n",
    "        R = random.randint(0, 100)\n",
    "        if R > PC:\n",
    "            gene1 = gene1 + (AgentA.pwd[i])\n",
    "            gene2 = gene2 + (AgentB.pwd[i])\n",
    "        else:\n",
    "            gene1 = gene1 + (AgentB.pwd[i])\n",
    "            gene2 = gene2 + (AgentA.pwd[i])\n",
    "    ChildA.pwd = gene1\n",
    "    ChildB.pwd = gene2\n",
    "    return ChildA, ChildB"
   ]
  },
  {
   "cell_type": "code",
   "execution_count": 31,
   "id": "babd064b-5008-477d-9f62-4c36b90f7e28",
   "metadata": {},
   "outputs": [],
   "source": [
    "def geneticMutation(AgentA):\n",
    "    l = list(AgentA.pwd)\n",
    "    for i in range(secretLen):\n",
    "        R = random.randint(0, 100)\n",
    "        if R < PM:\n",
    "            l[i] = random.choice(string.ascii_lowercase)\n",
    "    AgentA.pwd = ''.join(l)\n",
    "    return AgentA;"
   ]
  },
  {
   "cell_type": "code",
   "execution_count": 32,
   "id": "21b43390-e8af-4a1a-b348-0dfd19c1cd2b",
   "metadata": {},
   "outputs": [
    {
     "name": "stdout",
     "output_type": "stream",
     "text": [
      "pakwrtgorzyknkyoksy\n",
      "pakqrtgshfykjkyoksy\n"
     ]
    }
   ],
   "source": [
    "AgentA = Agent(secretLen)\n",
    "print(AgentA.pwd)\n",
    "print(geneticMutation(AgentA).pwd)"
   ]
  },
  {
   "cell_type": "code",
   "execution_count": 33,
   "id": "27f92722-5a7c-4105-bc0f-da8f8a28822e",
   "metadata": {},
   "outputs": [],
   "source": [
    "offspring = geneticCrossover(Agent(secretLen), Agent(secretLen))"
   ]
  },
  {
   "cell_type": "code",
   "execution_count": 34,
   "id": "6cfdb17a-aa7e-46ca-8df1-1ad4d0f51dac",
   "metadata": {},
   "outputs": [
    {
     "data": {
      "text/plain": [
       "'ojhwtyxmwthcjvlidpu'"
      ]
     },
     "execution_count": 34,
     "metadata": {},
     "output_type": "execute_result"
    }
   ],
   "source": [
    "offspring[0].pwd"
   ]
  },
  {
   "cell_type": "code",
   "execution_count": 35,
   "id": "7449cb54-d6f5-48e9-b15d-398e72f5a35c",
   "metadata": {},
   "outputs": [
    {
     "data": {
      "text/plain": [
       "'rjjlmcislgotprbhhcz'"
      ]
     },
     "execution_count": 35,
     "metadata": {},
     "output_type": "execute_result"
    }
   ],
   "source": [
    "offspring[1].pwd"
   ]
  },
  {
   "cell_type": "code",
   "execution_count": 36,
   "id": "f5e924cc-abb0-432f-9f7b-53662b56c050",
   "metadata": {},
   "outputs": [],
   "source": [
    "# Initalize a population of agents\n",
    "# Evaluate each agent\n",
    "# Sort agents in relation to their fitness\n",
    "\n",
    "\n",
    "# Apply search for t<T"
   ]
  },
  {
   "cell_type": "code",
   "execution_count": 51,
   "id": "5e063b68-b6aa-4c65-9d87-e400b4126201",
   "metadata": {},
   "outputs": [],
   "source": [
    "P = []\n",
    "pSize = 100;\n",
    "for i in range(pSize):\n",
    "    P.append(Agent(secretLen))\n",
    "\n",
    "def populationEvaluation(P):\n",
    "    for A in P:\n",
    "        A.score = objectivePwd(Agent(secretLen).pwd, superSecretPassword)\n",
    "    return P\n",
    "\n",
    "def sortAgents(P):\n",
    "    return sorted(P, key=lambda a: a.score, reverse=True)"
   ]
  },
  {
   "cell_type": "code",
   "execution_count": 53,
   "id": "39b1cb36-e890-4536-b3ef-572714f5acbe",
   "metadata": {},
   "outputs": [
    {
     "data": {
      "text/plain": [
       "0.08333333333333333"
      ]
     },
     "execution_count": 53,
     "metadata": {},
     "output_type": "execute_result"
    }
   ],
   "source": [
    "populationEvaluation(P)[0].score"
   ]
  },
  {
   "cell_type": "code",
   "execution_count": 39,
   "id": "97ce0f88-f018-4f68-af1f-c5e2d4a05ee3",
   "metadata": {},
   "outputs": [],
   "source": [
    "# last 60% agents ge removed.\n",
    "# New Offspring 40%\n",
    "# Compleatly new random agents 02% New Agents"
   ]
  },
  {
   "cell_type": "code",
   "execution_count": 54,
   "id": "c5a8ff4f-9e9d-4f2e-ad50-1c33e26e8ed0",
   "metadata": {},
   "outputs": [],
   "source": [
    "P = P[0:40]"
   ]
  },
  {
   "cell_type": "code",
   "execution_count": 55,
   "id": "3a3c171b-a434-432b-ab95-0c174d6874bd",
   "metadata": {},
   "outputs": [],
   "source": [
    "len(P)\n",
    "\n",
    "# randomly select 2 agets (40 more times to add nw agets)\n",
    "\n",
    "for i in range(20):\n",
    "    ChilaA, ChildB =  geneticCrossover(P[random.randint(0, 39)], P[random.randint(0, 39)])\n",
    "    ChilaA = geneticMutation(ChilaA)\n",
    "    ChildB = geneticMutation(ChildB)\n",
    "    P.append(ChilaA)\n",
    "    P.append(ChildB) \n",
    "\n",
    "for i in range(20):\n",
    "    P.append(Agent(secretLen))"
   ]
  },
  {
   "cell_type": "code",
   "execution_count": 56,
   "id": "0be7b0e4-46b2-4a97-9c24-ef91031a9d9a",
   "metadata": {},
   "outputs": [
    {
     "data": {
      "text/plain": [
       "100"
      ]
     },
     "execution_count": 56,
     "metadata": {},
     "output_type": "execute_result"
    }
   ],
   "source": [
    "len(P)"
   ]
  },
  {
   "cell_type": "code",
   "execution_count": 57,
   "id": "63af81c0-6f94-4de8-8df2-1a5ee06a1e6a",
   "metadata": {},
   "outputs": [
    {
     "name": "stdout",
     "output_type": "stream",
     "text": [
      "0.08333333333333333\n",
      "0.16666666666666666\n",
      "0.16666666666666666\n",
      "0.08333333333333333\n",
      "0.08333333333333333\n",
      "0.16666666666666666\n",
      "0.0\n",
      "0.0\n",
      "0.0\n",
      "0.0\n",
      "0.0\n",
      "0.0\n",
      "0.08333333333333333\n",
      "0.0\n",
      "0.25\n",
      "0.0\n",
      "0.08333333333333333\n",
      "0.08333333333333333\n",
      "0.0\n",
      "0.08333333333333333\n",
      "0.0\n",
      "0.08333333333333333\n",
      "0.08333333333333333\n",
      "0.08333333333333333\n",
      "0.08333333333333333\n",
      "0.08333333333333333\n",
      "0.08333333333333333\n",
      "0.0\n",
      "0.08333333333333333\n",
      "0.16666666666666666\n",
      "0.0\n",
      "0.08333333333333333\n",
      "0.08333333333333333\n",
      "0.08333333333333333\n",
      "0.0\n",
      "0.16666666666666666\n",
      "0.08333333333333333\n",
      "0.08333333333333333\n",
      "0.08333333333333333\n",
      "0.0\n",
      "0\n",
      "0\n",
      "0\n",
      "0\n",
      "0\n",
      "0\n",
      "0\n",
      "0\n",
      "0\n",
      "0\n",
      "0\n",
      "0\n",
      "0\n",
      "0\n",
      "0\n",
      "0\n",
      "0\n",
      "0\n",
      "0\n",
      "0\n",
      "0\n",
      "0\n",
      "0\n",
      "0\n",
      "0\n",
      "0\n",
      "0\n",
      "0\n",
      "0\n",
      "0\n",
      "0\n",
      "0\n",
      "0\n",
      "0\n",
      "0\n",
      "0\n",
      "0\n",
      "0\n",
      "0\n",
      "0\n",
      "0\n",
      "0\n",
      "0\n",
      "0\n",
      "0\n",
      "0\n",
      "0\n",
      "0\n",
      "0\n",
      "0\n",
      "0\n",
      "0\n",
      "0\n",
      "0\n",
      "0\n",
      "0\n",
      "0\n",
      "0\n",
      "0\n",
      "0\n"
     ]
    }
   ],
   "source": [
    "for i in P:\n",
    "    print(i.score)"
   ]
  },
  {
   "cell_type": "code",
   "execution_count": 43,
   "id": "0a8786ef-f468-42df-9e81-c4d26ced08e0",
   "metadata": {},
   "outputs": [],
   "source": [
    "import copy\n",
    "\n",
    "superSecretPassword = 'CloseTheDoor'\n",
    "secretLen = len(superSecretPassword)\n",
    "\n",
    "PM = 25;\n",
    "PC = 50;\n",
    "\n",
    "T = 2500;\n",
    "pSize = 100;\n",
    "\n",
    "#Initalization:\n",
    "P = []\n",
    "for i in range(pSize):\n",
    "    P.append(Agent(secretLen))\n",
    "\n",
    "#Runtime:\n",
    "for i in range(T):\n",
    "    # Evaluate agents:\n",
    "    P = populationEvaluation(P)\n",
    "    # Sorting agents in accoradace with fitness:\n",
    "    P = sortAgents(P)\n",
    "    # Prune population:\n",
    "    P = P[0:40]\n",
    "\n",
    "    #Apply crossover and mutation\n",
    "    for i in range(20):\n",
    "        ChilaA, ChildB =  geneticCrossover(P[random.randint(0, 39)], P[random.randint(0, 39)])\n",
    "        ChilaA = geneticMutation(ChilaA)\n",
    "        ChildB = geneticMutation(ChildB)\n",
    "        P.append(ChilaA)\n",
    "        P.append(ChildB)\n",
    "\n",
    "    # Introduce new genese\n",
    "    for i in range(20):\n",
    "        P.append(Agent(secretLen))"
   ]
  },
  {
   "cell_type": "code",
   "execution_count": 58,
   "id": "d4064231-98be-401f-a849-0d1a4a2ad67d",
   "metadata": {},
   "outputs": [],
   "source": [
    "#Knapsack problem:\n",
    "\n",
    "KnapsackMaxW= 100 # kg\n",
    "KnapsacVolume = 25 # Liters\n",
    "\n",
    "# List of items of know wieghts and vlumes:\n",
    "# [[50, 10], [25, 30], [10, 15]...]\n",
    "# 20 - 30 itmes (randomly implemeted)\n",
    "\n",
    "# Use those items to populate a knapsack based on the oabove constraints\n",
    "# Optimal or near optimal knapsack configuration of items that does not exceed the weight and volume limitations:\n",
    "\n",
    "# As many items as possible without exceeding weight and colume constraints"
   ]
  },
  {
   "cell_type": "code",
   "execution_count": null,
   "id": "42afbe5a-42c9-45ec-9a1c-35eb96c31919",
   "metadata": {},
   "outputs": [],
   "source": []
  }
 ],
 "metadata": {
  "kernelspec": {
   "display_name": "Python [conda env:base] *",
   "language": "python",
   "name": "conda-base-py"
  },
  "language_info": {
   "codemirror_mode": {
    "name": "ipython",
    "version": 3
   },
   "file_extension": ".py",
   "mimetype": "text/x-python",
   "name": "python",
   "nbconvert_exporter": "python",
   "pygments_lexer": "ipython3",
   "version": "3.12.7"
  }
 },
 "nbformat": 4,
 "nbformat_minor": 5
}
