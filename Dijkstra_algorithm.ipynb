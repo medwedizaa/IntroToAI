{
 "cells": [
  {
   "cell_type": "markdown",
   "id": "0300d2ce-064c-48a8-9aa2-212153087d5f",
   "metadata": {},
   "source": [
    "Dekstra's algorithm is used to find the shortest path from one node (vertex) to all other nodes (vertices) in the graph.\n",
    "\n",
    "It does so by repeatedly selecting the nearest unvisited vertex and calculating the distance to all the unvisited neighboring vertices."
   ]
  },
  {
   "cell_type": "code",
   "execution_count": 11,
   "id": "93425fe8-e7b5-4e53-98cb-6bc75146bebe",
   "metadata": {},
   "outputs": [],
   "source": [
    "# object-oriented design \n",
    "\n",
    "class Graph:\n",
    "\n",
    "    # size is the number of vertices (nodes) in the graph\n",
    "    # vertex data holds the names of all the vertices\n",
    "    # adj_matrix = holds all the edges and edge weights. Initial values are set to 0\n",
    "    def __init__(self, size):\n",
    "        self.adj_matrix = [ [0] * size for _ in range(size)]\n",
    "        self.size = size\n",
    "        self.vertex_data = [''] * size\n",
    "\n",
    "    def add_edge(self, u, v, weight):\n",
    "        if 0 <= u < self.size and 0 <= v <= self.size:\n",
    "            self.adj_matrix[u][v] = weight\n",
    "            self.adj_matrix[v][u] = weight # for undirected graph\n",
    "\n",
    "    # function add_vertex_data is used to add a vertex to the graph\n",
    "    # the index where the vertex shoul belng is given with the vertex argument\n",
    "    # and data is the name of the vertex\n",
    "    def add_vertex_data(self, vertex, data):\n",
    "        if 0 <= vertex < self.size:\n",
    "            self.vertex_data[vertex] = data\n",
    "\n",
    "    def dekstra(self, start_vertex_data):\n",
    "        start_vertex = self.vertex_data.index(start_vertex_data)\n",
    "        distances = [float('inf')]* self.size\n",
    "        distances[start_vertex] = 0\n",
    "        visited = [False] * self.size\n",
    "\n",
    "        for _ in range(self.size):\n",
    "            min_distance = float('inf')\n",
    "            u = None\n",
    "            for i in range(self.size): \n",
    "                if not visited[i] and distances[i] < min_distance:\n",
    "                    min_distance = distances[i]\n",
    "                    u=i\n",
    "\n",
    "            if u is None:\n",
    "                break\n",
    "\n",
    "            visited[u] = True\n",
    "\n",
    "            for v in range(self.size):\n",
    "                if self.adj_matrix[u][v] != 0 and not visited[v]:\n",
    "                    alt = distances[u] + self.adj_matrix[u][v]\n",
    "\n",
    "                    if alt < distances[v]:\n",
    "                        distances [v] = alt\n",
    "\n",
    "        return distances\n",
    "        \n",
    "        "
   ]
  },
  {
   "cell_type": "code",
   "execution_count": 12,
   "id": "b87f339d-6739-4a9f-936e-6f75969e05d9",
   "metadata": {},
   "outputs": [
    {
     "name": "stdout",
     "output_type": "stream",
     "text": [
      "/n Dekstra algorithm starting from node G\n",
      "Distance from A to A:4\n",
      "Distance from A to B:8\n",
      "Distance from A to C:6\n",
      "Distance from A to D:0\n",
      "Distance from A to E:2\n",
      "Distance from A to F:10\n",
      "Distance from A to G:7\n"
     ]
    }
   ],
   "source": [
    "g = Graph(7)\n",
    "g.add_vertex_data(0, 'A')\n",
    "g.add_vertex_data(1, 'B')\n",
    "g.add_vertex_data(2, 'C')\n",
    "g.add_vertex_data(3, 'D')\n",
    "g.add_vertex_data(4, 'E')\n",
    "g.add_vertex_data(5, 'F')\n",
    "g.add_vertex_data(6, 'G')\n",
    "\n",
    "g.add_edge(3, 0, 4)\n",
    "g.add_edge(3, 4, 2)\n",
    "g.add_edge(0, 2, 3)\n",
    "g.add_edge(0, 4, 4)\n",
    "g.add_edge(4, 2, 4)\n",
    "g.add_edge(4, 6, 5)\n",
    "g.add_edge(2, 5, 5)\n",
    "g.add_edge(2, 1, 2)\n",
    "g.add_edge(1, 5, 2)\n",
    "g.add_edge(6, 5, 5)\n",
    "\n",
    "print(\"/n Dekstra algorithm starting from node G\")\n",
    "distances = g.dekstra('D')\n",
    "\n",
    "for i, d in enumerate(distances):\n",
    "    print(f\"Distance from A to {g.vertex_data[i]}:{d}\")"
   ]
  },
  {
   "cell_type": "code",
   "execution_count": null,
   "id": "d508fd14-2a4e-453d-9611-b2d5462adc73",
   "metadata": {},
   "outputs": [],
   "source": []
  }
 ],
 "metadata": {
  "kernelspec": {
   "display_name": "Python [conda env:base] *",
   "language": "python",
   "name": "conda-base-py"
  },
  "language_info": {
   "codemirror_mode": {
    "name": "ipython",
    "version": 3
   },
   "file_extension": ".py",
   "mimetype": "text/x-python",
   "name": "python",
   "nbconvert_exporter": "python",
   "pygments_lexer": "ipython3",
   "version": "3.12.7"
  }
 },
 "nbformat": 4,
 "nbformat_minor": 5
}
